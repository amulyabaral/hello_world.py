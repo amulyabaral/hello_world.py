{
  "nbformat": 4,
  "nbformat_minor": 0,
  "metadata": {
    "colab": {
      "name": "basic problem solving in python.ipynb",
      "provenance": [],
      "collapsed_sections": [],
      "authorship_tag": "ABX9TyNe2QsR/au+raLLVjIlloMV",
      "include_colab_link": true
    },
    "kernelspec": {
      "name": "python3",
      "display_name": "Python 3"
    },
    "language_info": {
      "name": "python"
    }
  },
  "cells": [
    {
      "cell_type": "markdown",
      "metadata": {
        "id": "view-in-github",
        "colab_type": "text"
      },
      "source": [
        "<a href=\"https://colab.research.google.com/github/amulyabaral/hello_world.py/blob/main/basic_problem_solving_in_python.ipynb\" target=\"_parent\"><img src=\"https://colab.research.google.com/assets/colab-badge.svg\" alt=\"Open In Colab\"/></a>"
      ]
    },
    {
      "cell_type": "code",
      "execution_count": null,
      "metadata": {
        "id": "-1YGW3O_t1vn"
      },
      "outputs": [],
      "source": [
        ""
      ]
    },
    {
      "cell_type": "code",
      "source": [
        "# program to reverse a given number\n",
        "n = int(input(\"Enter the number:\"))\n",
        "rev = 0\n",
        "while n>0:\n",
        "  dig = n%10\n",
        "  rev = rev*10+dig\n",
        "  n = n//10\n",
        "print(\"Reverse of the number is:\", rev)"
      ],
      "metadata": {
        "colab": {
          "base_uri": "https://localhost:8080/"
        },
        "id": "RbIP6a_DuUlF",
        "outputId": "aa932b13-60be-4878-cc23-34738387cd54"
      },
      "execution_count": null,
      "outputs": [
        {
          "output_type": "stream",
          "name": "stdout",
          "text": [
            "Enter the number:12345\n",
            "Reverse of the number is: 54321\n"
          ]
        }
      ]
    },
    {
      "cell_type": "code",
      "source": [
        "#my own rendition of program to write reverse words\n",
        "word = (input(\"Enter your word: \"))\n",
        "length = len(word)\n",
        "i = 0\n",
        "n = -1\n",
        "rev_word = word[n]\n",
        "while i < length:\n",
        "  rev_word = (rev_word + word[n])\n",
        "  n = n-1\n",
        "  i = i + 1\n",
        "rev_word = rev_word[1:]\n",
        "print(\"The reversed word is:\", rev_word.lower())\n"
      ],
      "metadata": {
        "colab": {
          "base_uri": "https://localhost:8080/"
        },
        "id": "sVNkaVn1Dftd",
        "outputId": "65e35a78-9666-473d-8574-5d594cea44ac"
      },
      "execution_count": null,
      "outputs": [
        {
          "output_type": "stream",
          "name": "stdout",
          "text": [
            "Enter your word: saGarmatha\n",
            "The reversed word is: ahtamragas\n"
          ]
        }
      ]
    },
    {
      "cell_type": "code",
      "source": [
        "#2nd iteration using for loop, more optimized\n",
        "word = (input(\"Enter your word: \"))\n",
        "n = -1\n",
        "rev_word = (\"\")\n",
        "for i in word:\n",
        "  rev_word = (rev_word + word[n])\n",
        "  n = n-1\n",
        "print(\"The reversed word is:\", rev_word.lower())"
      ],
      "metadata": {
        "colab": {
          "base_uri": "https://localhost:8080/"
        },
        "id": "R8J4kpVSVzd1",
        "outputId": "4c77440e-0420-4ba2-edf6-13a4a30a6efa"
      },
      "execution_count": null,
      "outputs": [
        {
          "output_type": "stream",
          "name": "stdout",
          "text": [
            "Enter your word: sagarmatha\n",
            "The reversed word is ahtamragas\n"
          ]
        }
      ]
    },
    {
      "cell_type": "code",
      "source": [
        "txt = input(\"Enter your word: \")\n",
        "txt = txt[::-1]\n",
        "print(\"The reversed word is:\", txt)"
      ],
      "metadata": {
        "colab": {
          "base_uri": "https://localhost:8080/"
        },
        "id": "hDMWB4xRhbPD",
        "outputId": "e6b96377-870d-40cd-844d-53f55e8cf4b8"
      },
      "execution_count": 20,
      "outputs": [
        {
          "output_type": "stream",
          "name": "stdout",
          "text": [
            "Enter your word: sagarmatha\n",
            "The reversed word is:  ahtamragas\n"
          ]
        }
      ]
    }
  ]
}