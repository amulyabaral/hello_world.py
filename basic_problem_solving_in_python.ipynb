{
  "nbformat": 4,
  "nbformat_minor": 0,
  "metadata": {
    "colab": {
      "name": "basic problem solving in python.ipynb",
      "provenance": [],
      "collapsed_sections": [],
      "authorship_tag": "ABX9TyOPQ4rvHzIWQt7CzH/aFos5",
      "include_colab_link": true
    },
    "kernelspec": {
      "name": "python3",
      "display_name": "Python 3"
    },
    "language_info": {
      "name": "python"
    }
  },
  "cells": [
    {
      "cell_type": "markdown",
      "metadata": {
        "id": "view-in-github",
        "colab_type": "text"
      },
      "source": [
        "<a href=\"https://colab.research.google.com/github/amulyabaral/hello_world.py/blob/main/basic_problem_solving_in_python.ipynb\" target=\"_parent\"><img src=\"https://colab.research.google.com/assets/colab-badge.svg\" alt=\"Open In Colab\"/></a>"
      ]
    },
    {
      "cell_type": "code",
      "execution_count": null,
      "metadata": {
        "id": "-1YGW3O_t1vn"
      },
      "outputs": [],
      "source": [
        "# program to reverse a given number"
      ]
    },
    {
      "cell_type": "code",
      "source": [
        "n = int(input(\"Enter the number:\"))\n",
        "rev = 0\n",
        "while n>0:\n",
        "  dig = n%10\n",
        "  rev = rev*10+dig\n",
        "  n = n//10\n",
        "print(\"Reverse of the number is:\", rev)"
      ],
      "metadata": {
        "colab": {
          "base_uri": "https://localhost:8080/"
        },
        "id": "RbIP6a_DuUlF",
        "outputId": "aa932b13-60be-4878-cc23-34738387cd54"
      },
      "execution_count": 3,
      "outputs": [
        {
          "output_type": "stream",
          "name": "stdout",
          "text": [
            "Enter the number:12345\n",
            "Reverse of the number is: 54321\n"
          ]
        }
      ]
    }
  ]
}